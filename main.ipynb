{
 "cells": [
  {
   "cell_type": "markdown",
   "metadata": {},
   "source": [
    "# Arbitrary Style Transfer in Real-time with Adaptive Instance Normalization"
   ]
  },
  {
   "cell_type": "markdown",
   "metadata": {},
   "source": [
    "## Imports"
   ]
  },
  {
   "cell_type": "code",
   "execution_count": 1,
   "metadata": {},
   "outputs": [],
   "source": [
    "import torch\n",
    "import torchvision.transforms as transforms\n",
    "from PIL import Image"
   ]
  },
  {
   "cell_type": "markdown",
   "metadata": {},
   "source": [
    "## Define the model"
   ]
  },
  {
   "cell_type": "code",
   "execution_count": 2,
   "metadata": {},
   "outputs": [
    {
     "name": "stderr",
     "output_type": "stream",
     "text": [
      "Using cache found in /home/mathis/.cache/torch/hub/pytorch_vision_v0.9.0\n",
      "/home/mathis/Documents/MVA/s2/genmod/AdaIN/.venv/lib/python3.11/site-packages/torchvision/models/_utils.py:208: UserWarning: The parameter 'pretrained' is deprecated since 0.13 and may be removed in the future, please use 'weights' instead.\n",
      "  warnings.warn(\n",
      "/home/mathis/Documents/MVA/s2/genmod/AdaIN/.venv/lib/python3.11/site-packages/torchvision/models/_utils.py:223: UserWarning: Arguments other than a weight enum or `None` for 'weights' are deprecated since 0.13 and may be removed in the future. The current behavior is equivalent to passing `weights=VGG19_Weights.IMAGENET1K_V1`. You can also use `weights=VGG19_Weights.DEFAULT` to get the most up-to-date weights.\n",
      "  warnings.warn(msg)\n"
     ]
    }
   ],
   "source": [
    "from model import StyleTransfer, train_decoder\n",
    "model = StyleTransfer()"
   ]
  },
  {
   "cell_type": "markdown",
   "metadata": {},
   "source": [
    "## Training of the decoder"
   ]
  },
  {
   "cell_type": "markdown",
   "metadata": {},
   "source": [
    "### Datasets"
   ]
  },
  {
   "cell_type": "code",
   "execution_count": 3,
   "metadata": {},
   "outputs": [
    {
     "name": "stdout",
     "output_type": "stream",
     "text": [
      "Files already downloaded and verified\n",
      "Files already downloaded and verified\n",
      "len(cifar10_dataset) = 128 images\n",
      "len(artbench_dataset) = 128 images\n",
      "len(cifar10_loader) = 2 batches\n",
      "len(artbench_loader) = 2 batches\n"
     ]
    }
   ],
   "source": [
    "from dataset import CIFAR10, ArtBench10\n",
    "from torch.utils.data import DataLoader\n",
    "from torch.utils.data import Subset\n",
    "\n",
    "transform = transforms.Compose([\n",
    "    transforms.Resize((32, 32)),\n",
    "    transforms.ToTensor()\n",
    "])\n",
    "\n",
    "# datasets\n",
    "cifar10_dataset = CIFAR10(root='./data', train=True, transform=transform, download=True)\n",
    "artbench_dataset = ArtBench10(root='./data', train=True, transform=transform, download=True)\n",
    "\n",
    "# choose the size of the training dataset\n",
    "size = 128\n",
    "indices = list(range(size))\n",
    "cifar10_dataset = Subset(cifar10_dataset, indices)\n",
    "artbench_dataset = Subset(artbench_dataset, indices)\n",
    "\n",
    "# create the dataloaders\n",
    "cifar10_loader = DataLoader(cifar10_dataset, batch_size=64, shuffle=True)\n",
    "artbench_loader = DataLoader(artbench_dataset, batch_size=64, shuffle=True)\n",
    "\n",
    "print(\"len(cifar10_dataset) =\", len(cifar10_dataset), \"images\")\n",
    "print(\"len(artbench_dataset) =\", len(artbench_dataset), \"images\")\n",
    "\n",
    "print(\"len(cifar10_loader) =\", len(cifar10_loader), \"batches\")\n",
    "print(\"len(artbench_loader) =\", len(artbench_loader), \"batches\")"
   ]
  },
  {
   "cell_type": "markdown",
   "metadata": {},
   "source": [
    "### Training"
   ]
  },
  {
   "cell_type": "code",
   "execution_count": 4,
   "metadata": {},
   "outputs": [
    {
     "name": "stderr",
     "output_type": "stream",
     "text": [
      "Epochs:   0%|          | 0/3 [00:00<?, ?it/s]"
     ]
    },
    {
     "name": "stdout",
     "output_type": "stream",
     "text": [
      "loss = 54.57487487792969\n"
     ]
    },
    {
     "name": "stderr",
     "output_type": "stream",
     "text": [
      "Epochs:  33%|███▎      | 1/3 [00:11<00:23, 11.91s/it]"
     ]
    },
    {
     "name": "stdout",
     "output_type": "stream",
     "text": [
      "loss = 107.22421264648438\n",
      "loss = 159.7381591796875\n"
     ]
    },
    {
     "name": "stderr",
     "output_type": "stream",
     "text": [
      "Epochs:  67%|██████▋   | 2/3 [00:23<00:11, 11.80s/it]"
     ]
    },
    {
     "name": "stdout",
     "output_type": "stream",
     "text": [
      "loss = 252.36868286132812\n",
      "loss = 282.654052734375\n"
     ]
    },
    {
     "name": "stderr",
     "output_type": "stream",
     "text": [
      "Epochs: 100%|██████████| 3/3 [00:35<00:00, 11.81s/it]"
     ]
    },
    {
     "name": "stdout",
     "output_type": "stream",
     "text": [
      "loss = 320.7870788574219\n"
     ]
    },
    {
     "name": "stderr",
     "output_type": "stream",
     "text": [
      "\n"
     ]
    }
   ],
   "source": [
    "# Training\n",
    "res = train_decoder(model=model,\n",
    "                    content_loader=cifar10_loader,\n",
    "                    style_loader=artbench_loader,\n",
    "                    nb_epochs=3,\n",
    "                    learning_rate=0.001,\n",
    "                    lam=2.0)"
   ]
  },
  {
   "cell_type": "markdown",
   "metadata": {},
   "source": [
    "## Load and preprocess the images"
   ]
  },
  {
   "cell_type": "code",
   "execution_count": 5,
   "metadata": {},
   "outputs": [
    {
     "name": "stdout",
     "output_type": "stream",
     "text": [
      "content_tensor: torch.Size([1, 3, 32, 32])\n",
      "style_tensor: torch.Size([1, 3, 32, 32])\n"
     ]
    }
   ],
   "source": [
    "# Load the content and style images\n",
    "content_img = Image.open(\"images/content/golden_gate.jpg\")\n",
    "style_img = Image.open(\"images/style/sketch.png\")\n",
    "\n",
    "# Preprocess the images\n",
    "preprocess = transforms.Compose([\n",
    "    transforms.Resize((32, 32)),\n",
    "    transforms.ToTensor()\n",
    "])\n",
    "\n",
    "content_tensor = preprocess(content_img).unsqueeze(0)\n",
    "style_tensor = preprocess(style_img).unsqueeze(0)\n",
    "\n",
    "print(\"content_tensor:\", content_tensor.shape)\n",
    "print(\"style_tensor:\", style_tensor.shape)\n",
    "\n",
    "transforms.ToPILImage()(content_tensor.squeeze(0).cpu().clamp(0, 1)).show()\n",
    "transforms.ToPILImage()(style_tensor.squeeze(0).cpu().clamp(0, 1)).show()"
   ]
  },
  {
   "cell_type": "markdown",
   "metadata": {},
   "source": [
    "## Run the model"
   ]
  },
  {
   "cell_type": "code",
   "execution_count": 6,
   "metadata": {},
   "outputs": [],
   "source": [
    "with torch.no_grad():\n",
    "    stylized_img = model(content_tensor, style_tensor)"
   ]
  },
  {
   "cell_type": "markdown",
   "metadata": {},
   "source": [
    "## Print the result"
   ]
  },
  {
   "cell_type": "code",
   "execution_count": 7,
   "metadata": {},
   "outputs": [],
   "source": [
    "# Output the stylized image\n",
    "output_img = transforms.ToPILImage()(stylized_img.squeeze(0).cpu().clamp(0, 1))\n",
    "output_img.show()"
   ]
  },
  {
   "cell_type": "code",
   "execution_count": null,
   "metadata": {},
   "outputs": [],
   "source": []
  }
 ],
 "metadata": {
  "kernelspec": {
   "display_name": ".venv",
   "language": "python",
   "name": "python3"
  },
  "language_info": {
   "codemirror_mode": {
    "name": "ipython",
    "version": 3
   },
   "file_extension": ".py",
   "mimetype": "text/x-python",
   "name": "python",
   "nbconvert_exporter": "python",
   "pygments_lexer": "ipython3",
   "version": "3.11.2"
  }
 },
 "nbformat": 4,
 "nbformat_minor": 2
}
